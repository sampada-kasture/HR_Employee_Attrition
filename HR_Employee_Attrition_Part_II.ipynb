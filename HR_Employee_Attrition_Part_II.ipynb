{
  "nbformat": 4,
  "nbformat_minor": 0,
  "metadata": {
    "colab": {
      "provenance": []
    },
    "kernelspec": {
      "name": "python3",
      "display_name": "Python 3"
    },
    "language_info": {
      "name": "python"
    }
  },
  "cells": [
    {
      "cell_type": "markdown",
      "source": [
        "# Capstone 1 - Part 2\n",
        "Author- Sampada Kasture\n",
        "\n",
        "In the first part of the capstone, we focused on Data Retrieval, Data Preprocessing, Feature Engineering and Exploratory Data Analysis using Python & its\n",
        "libraries. Now we are going to shift gears and gain insights into our HR Analytics dataset using SQL.\n",
        "### TODO: Make use of SQL to do the following:\n",
        "### Create a SQLITE3 DB using the CSV file (2 pts). Please refer this link and this link to know more.\n",
        "### Calculate the Attrition Rate and summarize attrition (3 pts) by:\n",
        "1. Gender\n",
        "2. Department\n",
        "3. Age\n",
        "4. Average monthly income by job level\n",
        "5. Years at company\n",
        "\n",
        "### Continue using SQL to explore main reasons for attrition (3 pts), For example:\n",
        "- Why do more people over 50 years old leave the company than people who aged 40-50?\n",
        "- Why do people with higher pay still leave the company?\n",
        "- Which factors drive employees who work at company less than 5 years to leave?\n",
        "###Effective Communication (2 pts)\n",
        "- Please make use of markdown cells to communicate your thought process, why did you think of performing a step? what was the observation from the\n",
        "query? etc.\n",
        "- The code should be commented so that it is readable for the reviewer.\n",
        "### Grading and Important Instructions\n",
        "- Each of the above steps are mandatory and should be completed in good faith\n",
        "- Make sure before submitting that the code is in fully working condition\n",
        "- It is fine to make use of ChatGPT, stackoverflow type resources, just provide the reference links from where you got it\n",
        "- Debugging is an art, if you find yourself stuck with errors, take help of stackoverflow and ChatGPT to resolve the issue and if it's still unresolved, reach out\n",
        "to me for help.\n",
        "- You need to score atleast 7/10 to pass the project, anything less than that will be marked required, needing resubmission.\n",
        "- Feedback will be provided on 3 levels (Awesome, Suggestion, & Required). - - Required changes are mandatory to be made.\n",
        "- For submission, please upload the project on github and share the link to the file with us through LMS"
      ],
      "metadata": {
        "id": "k2fEo0g7xlf0"
      }
    },
    {
      "cell_type": "markdown",
      "source": [
        "## Importing required libraries"
      ],
      "metadata": {
        "id": "PE3hFZyiyorg"
      }
    },
    {
      "cell_type": "code",
      "execution_count": 19,
      "metadata": {
        "id": "bXnovMQKatoA"
      },
      "outputs": [],
      "source": [
        "import pandas as pd\n",
        "import sqlite3\n"
      ]
    },
    {
      "cell_type": "code",
      "source": [
        "#retrieving database\n",
        "df = pd.read_csv('https://raw.githubusercontent.com/sampada-kasture/HR_Employee_Attrition/refs/heads/main/CSV_File/HR-Employee-Attrition.csv')\n",
        "df.head()"
      ],
      "metadata": {
        "colab": {
          "base_uri": "https://localhost:8080/",
          "height": 325
        },
        "id": "Kg-UiEx6a-bO",
        "outputId": "fa3dc28e-b75e-4cd8-f5f3-7f4b23700061"
      },
      "execution_count": 20,
      "outputs": [
        {
          "output_type": "execute_result",
          "data": {
            "text/plain": [
              "   Age Attrition     BusinessTravel  DailyRate              Department  \\\n",
              "0   41       Yes      Travel_Rarely       1102                   Sales   \n",
              "1   49        No  Travel_Frequently        279  Research & Development   \n",
              "2   37       Yes      Travel_Rarely       1373  Research & Development   \n",
              "3   33        No  Travel_Frequently       1392  Research & Development   \n",
              "4   27        No      Travel_Rarely        591  Research & Development   \n",
              "\n",
              "   DistanceFromHome  Education EducationField  EmployeeCount  EmployeeNumber  \\\n",
              "0                 1          2  Life Sciences              1               1   \n",
              "1                 8          1  Life Sciences              1               2   \n",
              "2                 2          2          Other              1               4   \n",
              "3                 3          4  Life Sciences              1               5   \n",
              "4                 2          1        Medical              1               7   \n",
              "\n",
              "   ...  RelationshipSatisfaction StandardHours  StockOptionLevel  \\\n",
              "0  ...                         1            80                 0   \n",
              "1  ...                         4            80                 1   \n",
              "2  ...                         2            80                 0   \n",
              "3  ...                         3            80                 0   \n",
              "4  ...                         4            80                 1   \n",
              "\n",
              "   TotalWorkingYears  TrainingTimesLastYear WorkLifeBalance  YearsAtCompany  \\\n",
              "0                  8                      0               1               6   \n",
              "1                 10                      3               3              10   \n",
              "2                  7                      3               3               0   \n",
              "3                  8                      3               3               8   \n",
              "4                  6                      3               3               2   \n",
              "\n",
              "  YearsInCurrentRole  YearsSinceLastPromotion  YearsWithCurrManager  \n",
              "0                  4                        0                     5  \n",
              "1                  7                        1                     7  \n",
              "2                  0                        0                     0  \n",
              "3                  7                        3                     0  \n",
              "4                  2                        2                     2  \n",
              "\n",
              "[5 rows x 35 columns]"
            ],
            "text/html": [
              "\n",
              "  <div id=\"df-d1b73267-f805-4574-9134-0ea439b0badc\" class=\"colab-df-container\">\n",
              "    <div>\n",
              "<style scoped>\n",
              "    .dataframe tbody tr th:only-of-type {\n",
              "        vertical-align: middle;\n",
              "    }\n",
              "\n",
              "    .dataframe tbody tr th {\n",
              "        vertical-align: top;\n",
              "    }\n",
              "\n",
              "    .dataframe thead th {\n",
              "        text-align: right;\n",
              "    }\n",
              "</style>\n",
              "<table border=\"1\" class=\"dataframe\">\n",
              "  <thead>\n",
              "    <tr style=\"text-align: right;\">\n",
              "      <th></th>\n",
              "      <th>Age</th>\n",
              "      <th>Attrition</th>\n",
              "      <th>BusinessTravel</th>\n",
              "      <th>DailyRate</th>\n",
              "      <th>Department</th>\n",
              "      <th>DistanceFromHome</th>\n",
              "      <th>Education</th>\n",
              "      <th>EducationField</th>\n",
              "      <th>EmployeeCount</th>\n",
              "      <th>EmployeeNumber</th>\n",
              "      <th>...</th>\n",
              "      <th>RelationshipSatisfaction</th>\n",
              "      <th>StandardHours</th>\n",
              "      <th>StockOptionLevel</th>\n",
              "      <th>TotalWorkingYears</th>\n",
              "      <th>TrainingTimesLastYear</th>\n",
              "      <th>WorkLifeBalance</th>\n",
              "      <th>YearsAtCompany</th>\n",
              "      <th>YearsInCurrentRole</th>\n",
              "      <th>YearsSinceLastPromotion</th>\n",
              "      <th>YearsWithCurrManager</th>\n",
              "    </tr>\n",
              "  </thead>\n",
              "  <tbody>\n",
              "    <tr>\n",
              "      <th>0</th>\n",
              "      <td>41</td>\n",
              "      <td>Yes</td>\n",
              "      <td>Travel_Rarely</td>\n",
              "      <td>1102</td>\n",
              "      <td>Sales</td>\n",
              "      <td>1</td>\n",
              "      <td>2</td>\n",
              "      <td>Life Sciences</td>\n",
              "      <td>1</td>\n",
              "      <td>1</td>\n",
              "      <td>...</td>\n",
              "      <td>1</td>\n",
              "      <td>80</td>\n",
              "      <td>0</td>\n",
              "      <td>8</td>\n",
              "      <td>0</td>\n",
              "      <td>1</td>\n",
              "      <td>6</td>\n",
              "      <td>4</td>\n",
              "      <td>0</td>\n",
              "      <td>5</td>\n",
              "    </tr>\n",
              "    <tr>\n",
              "      <th>1</th>\n",
              "      <td>49</td>\n",
              "      <td>No</td>\n",
              "      <td>Travel_Frequently</td>\n",
              "      <td>279</td>\n",
              "      <td>Research &amp; Development</td>\n",
              "      <td>8</td>\n",
              "      <td>1</td>\n",
              "      <td>Life Sciences</td>\n",
              "      <td>1</td>\n",
              "      <td>2</td>\n",
              "      <td>...</td>\n",
              "      <td>4</td>\n",
              "      <td>80</td>\n",
              "      <td>1</td>\n",
              "      <td>10</td>\n",
              "      <td>3</td>\n",
              "      <td>3</td>\n",
              "      <td>10</td>\n",
              "      <td>7</td>\n",
              "      <td>1</td>\n",
              "      <td>7</td>\n",
              "    </tr>\n",
              "    <tr>\n",
              "      <th>2</th>\n",
              "      <td>37</td>\n",
              "      <td>Yes</td>\n",
              "      <td>Travel_Rarely</td>\n",
              "      <td>1373</td>\n",
              "      <td>Research &amp; Development</td>\n",
              "      <td>2</td>\n",
              "      <td>2</td>\n",
              "      <td>Other</td>\n",
              "      <td>1</td>\n",
              "      <td>4</td>\n",
              "      <td>...</td>\n",
              "      <td>2</td>\n",
              "      <td>80</td>\n",
              "      <td>0</td>\n",
              "      <td>7</td>\n",
              "      <td>3</td>\n",
              "      <td>3</td>\n",
              "      <td>0</td>\n",
              "      <td>0</td>\n",
              "      <td>0</td>\n",
              "      <td>0</td>\n",
              "    </tr>\n",
              "    <tr>\n",
              "      <th>3</th>\n",
              "      <td>33</td>\n",
              "      <td>No</td>\n",
              "      <td>Travel_Frequently</td>\n",
              "      <td>1392</td>\n",
              "      <td>Research &amp; Development</td>\n",
              "      <td>3</td>\n",
              "      <td>4</td>\n",
              "      <td>Life Sciences</td>\n",
              "      <td>1</td>\n",
              "      <td>5</td>\n",
              "      <td>...</td>\n",
              "      <td>3</td>\n",
              "      <td>80</td>\n",
              "      <td>0</td>\n",
              "      <td>8</td>\n",
              "      <td>3</td>\n",
              "      <td>3</td>\n",
              "      <td>8</td>\n",
              "      <td>7</td>\n",
              "      <td>3</td>\n",
              "      <td>0</td>\n",
              "    </tr>\n",
              "    <tr>\n",
              "      <th>4</th>\n",
              "      <td>27</td>\n",
              "      <td>No</td>\n",
              "      <td>Travel_Rarely</td>\n",
              "      <td>591</td>\n",
              "      <td>Research &amp; Development</td>\n",
              "      <td>2</td>\n",
              "      <td>1</td>\n",
              "      <td>Medical</td>\n",
              "      <td>1</td>\n",
              "      <td>7</td>\n",
              "      <td>...</td>\n",
              "      <td>4</td>\n",
              "      <td>80</td>\n",
              "      <td>1</td>\n",
              "      <td>6</td>\n",
              "      <td>3</td>\n",
              "      <td>3</td>\n",
              "      <td>2</td>\n",
              "      <td>2</td>\n",
              "      <td>2</td>\n",
              "      <td>2</td>\n",
              "    </tr>\n",
              "  </tbody>\n",
              "</table>\n",
              "<p>5 rows × 35 columns</p>\n",
              "</div>\n",
              "    <div class=\"colab-df-buttons\">\n",
              "\n",
              "  <div class=\"colab-df-container\">\n",
              "    <button class=\"colab-df-convert\" onclick=\"convertToInteractive('df-d1b73267-f805-4574-9134-0ea439b0badc')\"\n",
              "            title=\"Convert this dataframe to an interactive table.\"\n",
              "            style=\"display:none;\">\n",
              "\n",
              "  <svg xmlns=\"http://www.w3.org/2000/svg\" height=\"24px\" viewBox=\"0 -960 960 960\">\n",
              "    <path d=\"M120-120v-720h720v720H120Zm60-500h600v-160H180v160Zm220 220h160v-160H400v160Zm0 220h160v-160H400v160ZM180-400h160v-160H180v160Zm440 0h160v-160H620v160ZM180-180h160v-160H180v160Zm440 0h160v-160H620v160Z\"/>\n",
              "  </svg>\n",
              "    </button>\n",
              "\n",
              "  <style>\n",
              "    .colab-df-container {\n",
              "      display:flex;\n",
              "      gap: 12px;\n",
              "    }\n",
              "\n",
              "    .colab-df-convert {\n",
              "      background-color: #E8F0FE;\n",
              "      border: none;\n",
              "      border-radius: 50%;\n",
              "      cursor: pointer;\n",
              "      display: none;\n",
              "      fill: #1967D2;\n",
              "      height: 32px;\n",
              "      padding: 0 0 0 0;\n",
              "      width: 32px;\n",
              "    }\n",
              "\n",
              "    .colab-df-convert:hover {\n",
              "      background-color: #E2EBFA;\n",
              "      box-shadow: 0px 1px 2px rgba(60, 64, 67, 0.3), 0px 1px 3px 1px rgba(60, 64, 67, 0.15);\n",
              "      fill: #174EA6;\n",
              "    }\n",
              "\n",
              "    .colab-df-buttons div {\n",
              "      margin-bottom: 4px;\n",
              "    }\n",
              "\n",
              "    [theme=dark] .colab-df-convert {\n",
              "      background-color: #3B4455;\n",
              "      fill: #D2E3FC;\n",
              "    }\n",
              "\n",
              "    [theme=dark] .colab-df-convert:hover {\n",
              "      background-color: #434B5C;\n",
              "      box-shadow: 0px 1px 3px 1px rgba(0, 0, 0, 0.15);\n",
              "      filter: drop-shadow(0px 1px 2px rgba(0, 0, 0, 0.3));\n",
              "      fill: #FFFFFF;\n",
              "    }\n",
              "  </style>\n",
              "\n",
              "    <script>\n",
              "      const buttonEl =\n",
              "        document.querySelector('#df-d1b73267-f805-4574-9134-0ea439b0badc button.colab-df-convert');\n",
              "      buttonEl.style.display =\n",
              "        google.colab.kernel.accessAllowed ? 'block' : 'none';\n",
              "\n",
              "      async function convertToInteractive(key) {\n",
              "        const element = document.querySelector('#df-d1b73267-f805-4574-9134-0ea439b0badc');\n",
              "        const dataTable =\n",
              "          await google.colab.kernel.invokeFunction('convertToInteractive',\n",
              "                                                    [key], {});\n",
              "        if (!dataTable) return;\n",
              "\n",
              "        const docLinkHtml = 'Like what you see? Visit the ' +\n",
              "          '<a target=\"_blank\" href=https://colab.research.google.com/notebooks/data_table.ipynb>data table notebook</a>'\n",
              "          + ' to learn more about interactive tables.';\n",
              "        element.innerHTML = '';\n",
              "        dataTable['output_type'] = 'display_data';\n",
              "        await google.colab.output.renderOutput(dataTable, element);\n",
              "        const docLink = document.createElement('div');\n",
              "        docLink.innerHTML = docLinkHtml;\n",
              "        element.appendChild(docLink);\n",
              "      }\n",
              "    </script>\n",
              "  </div>\n",
              "\n",
              "\n",
              "    <div id=\"df-8d66e7a9-257d-4523-876c-07f8099c2972\">\n",
              "      <button class=\"colab-df-quickchart\" onclick=\"quickchart('df-8d66e7a9-257d-4523-876c-07f8099c2972')\"\n",
              "                title=\"Suggest charts\"\n",
              "                style=\"display:none;\">\n",
              "\n",
              "<svg xmlns=\"http://www.w3.org/2000/svg\" height=\"24px\"viewBox=\"0 0 24 24\"\n",
              "     width=\"24px\">\n",
              "    <g>\n",
              "        <path d=\"M19 3H5c-1.1 0-2 .9-2 2v14c0 1.1.9 2 2 2h14c1.1 0 2-.9 2-2V5c0-1.1-.9-2-2-2zM9 17H7v-7h2v7zm4 0h-2V7h2v10zm4 0h-2v-4h2v4z\"/>\n",
              "    </g>\n",
              "</svg>\n",
              "      </button>\n",
              "\n",
              "<style>\n",
              "  .colab-df-quickchart {\n",
              "      --bg-color: #E8F0FE;\n",
              "      --fill-color: #1967D2;\n",
              "      --hover-bg-color: #E2EBFA;\n",
              "      --hover-fill-color: #174EA6;\n",
              "      --disabled-fill-color: #AAA;\n",
              "      --disabled-bg-color: #DDD;\n",
              "  }\n",
              "\n",
              "  [theme=dark] .colab-df-quickchart {\n",
              "      --bg-color: #3B4455;\n",
              "      --fill-color: #D2E3FC;\n",
              "      --hover-bg-color: #434B5C;\n",
              "      --hover-fill-color: #FFFFFF;\n",
              "      --disabled-bg-color: #3B4455;\n",
              "      --disabled-fill-color: #666;\n",
              "  }\n",
              "\n",
              "  .colab-df-quickchart {\n",
              "    background-color: var(--bg-color);\n",
              "    border: none;\n",
              "    border-radius: 50%;\n",
              "    cursor: pointer;\n",
              "    display: none;\n",
              "    fill: var(--fill-color);\n",
              "    height: 32px;\n",
              "    padding: 0;\n",
              "    width: 32px;\n",
              "  }\n",
              "\n",
              "  .colab-df-quickchart:hover {\n",
              "    background-color: var(--hover-bg-color);\n",
              "    box-shadow: 0 1px 2px rgba(60, 64, 67, 0.3), 0 1px 3px 1px rgba(60, 64, 67, 0.15);\n",
              "    fill: var(--button-hover-fill-color);\n",
              "  }\n",
              "\n",
              "  .colab-df-quickchart-complete:disabled,\n",
              "  .colab-df-quickchart-complete:disabled:hover {\n",
              "    background-color: var(--disabled-bg-color);\n",
              "    fill: var(--disabled-fill-color);\n",
              "    box-shadow: none;\n",
              "  }\n",
              "\n",
              "  .colab-df-spinner {\n",
              "    border: 2px solid var(--fill-color);\n",
              "    border-color: transparent;\n",
              "    border-bottom-color: var(--fill-color);\n",
              "    animation:\n",
              "      spin 1s steps(1) infinite;\n",
              "  }\n",
              "\n",
              "  @keyframes spin {\n",
              "    0% {\n",
              "      border-color: transparent;\n",
              "      border-bottom-color: var(--fill-color);\n",
              "      border-left-color: var(--fill-color);\n",
              "    }\n",
              "    20% {\n",
              "      border-color: transparent;\n",
              "      border-left-color: var(--fill-color);\n",
              "      border-top-color: var(--fill-color);\n",
              "    }\n",
              "    30% {\n",
              "      border-color: transparent;\n",
              "      border-left-color: var(--fill-color);\n",
              "      border-top-color: var(--fill-color);\n",
              "      border-right-color: var(--fill-color);\n",
              "    }\n",
              "    40% {\n",
              "      border-color: transparent;\n",
              "      border-right-color: var(--fill-color);\n",
              "      border-top-color: var(--fill-color);\n",
              "    }\n",
              "    60% {\n",
              "      border-color: transparent;\n",
              "      border-right-color: var(--fill-color);\n",
              "    }\n",
              "    80% {\n",
              "      border-color: transparent;\n",
              "      border-right-color: var(--fill-color);\n",
              "      border-bottom-color: var(--fill-color);\n",
              "    }\n",
              "    90% {\n",
              "      border-color: transparent;\n",
              "      border-bottom-color: var(--fill-color);\n",
              "    }\n",
              "  }\n",
              "</style>\n",
              "\n",
              "      <script>\n",
              "        async function quickchart(key) {\n",
              "          const quickchartButtonEl =\n",
              "            document.querySelector('#' + key + ' button');\n",
              "          quickchartButtonEl.disabled = true;  // To prevent multiple clicks.\n",
              "          quickchartButtonEl.classList.add('colab-df-spinner');\n",
              "          try {\n",
              "            const charts = await google.colab.kernel.invokeFunction(\n",
              "                'suggestCharts', [key], {});\n",
              "          } catch (error) {\n",
              "            console.error('Error during call to suggestCharts:', error);\n",
              "          }\n",
              "          quickchartButtonEl.classList.remove('colab-df-spinner');\n",
              "          quickchartButtonEl.classList.add('colab-df-quickchart-complete');\n",
              "        }\n",
              "        (() => {\n",
              "          let quickchartButtonEl =\n",
              "            document.querySelector('#df-8d66e7a9-257d-4523-876c-07f8099c2972 button');\n",
              "          quickchartButtonEl.style.display =\n",
              "            google.colab.kernel.accessAllowed ? 'block' : 'none';\n",
              "        })();\n",
              "      </script>\n",
              "    </div>\n",
              "\n",
              "    </div>\n",
              "  </div>\n"
            ],
            "application/vnd.google.colaboratory.intrinsic+json": {
              "type": "dataframe",
              "variable_name": "df"
            }
          },
          "metadata": {},
          "execution_count": 20
        }
      ]
    },
    {
      "cell_type": "markdown",
      "source": [
        "## Creating a SQLite3 DB"
      ],
      "metadata": {
        "id": "kIpwcPMoy26E"
      }
    },
    {
      "cell_type": "code",
      "source": [
        "conn = sqlite3.connect('HR_Employee_Attrition.db')"
      ],
      "metadata": {
        "id": "FBSsGYafbYCK"
      },
      "execution_count": 21,
      "outputs": []
    },
    {
      "cell_type": "code",
      "source": [
        "df.to_sql('attrition', conn, if_exists='replace', index=False)"
      ],
      "metadata": {
        "colab": {
          "base_uri": "https://localhost:8080/"
        },
        "id": "vZhPBsiSbkaY",
        "outputId": "a32b9226-5f72-4dcb-9764-2d52c647a538"
      },
      "execution_count": 22,
      "outputs": [
        {
          "output_type": "execute_result",
          "data": {
            "text/plain": [
              "1470"
            ]
          },
          "metadata": {},
          "execution_count": 22
        }
      ]
    },
    {
      "cell_type": "code",
      "source": [
        "conn.commit()"
      ],
      "metadata": {
        "id": "kR8ff3IwbuwQ"
      },
      "execution_count": 23,
      "outputs": []
    },
    {
      "cell_type": "code",
      "source": [
        "import prettytable\n",
        "\n",
        "prettytable.DEFAULT = prettytable.TableStyle\n",
        "\n",
        "\n",
        "\n",
        "%load_ext sql\n",
        "%config SqlMagic.style = 'Default'\n",
        "%sql sqlite:///HR_Employee_Attrition.db"
      ],
      "metadata": {
        "colab": {
          "base_uri": "https://localhost:8080/"
        },
        "id": "JmWxyTGgbz4D",
        "outputId": "16f95b1e-c684-407a-f13b-e7100c9aa202"
      },
      "execution_count": 24,
      "outputs": [
        {
          "output_type": "stream",
          "name": "stdout",
          "text": [
            "The sql extension is already loaded. To reload it, use:\n",
            "  %reload_ext sql\n"
          ]
        }
      ]
    },
    {
      "cell_type": "markdown",
      "source": [
        "## Loading data"
      ],
      "metadata": {
        "id": "WgkNdy-zy73K"
      }
    },
    {
      "cell_type": "code",
      "source": [
        "%%sql\n",
        "\n",
        "select *\n",
        "from Attrition\n",
        "LIMIT 5;"
      ],
      "metadata": {
        "colab": {
          "base_uri": "https://localhost:8080/",
          "height": 290
        },
        "id": "9So2X0xwb8sk",
        "outputId": "582692cf-0712-44e5-bb11-5550957c5bca"
      },
      "execution_count": 25,
      "outputs": [
        {
          "output_type": "stream",
          "name": "stdout",
          "text": [
            " * sqlite:///HR_Employee_Attrition.db\n",
            "Done.\n"
          ]
        },
        {
          "output_type": "execute_result",
          "data": {
            "text/plain": [
              "[(41, 'Yes', 'Travel_Rarely', 1102, 'Sales', 1, 2, 'Life Sciences', 1, 1, 2, 'Female', 94, 3, 2, 'Sales Executive', 4, 'Single', 5993, 19479, 8, 'Y', 'Yes', 11, 3, 1, 80, 0, 8, 0, 1, 6, 4, 0, 5),\n",
              " (49, 'No', 'Travel_Frequently', 279, 'Research & Development', 8, 1, 'Life Sciences', 1, 2, 3, 'Male', 61, 2, 2, 'Research Scientist', 2, 'Married', 5130, 24907, 1, 'Y', 'No', 23, 4, 4, 80, 1, 10, 3, 3, 10, 7, 1, 7),\n",
              " (37, 'Yes', 'Travel_Rarely', 1373, 'Research & Development', 2, 2, 'Other', 1, 4, 4, 'Male', 92, 2, 1, 'Laboratory Technician', 3, 'Single', 2090, 2396, 6, 'Y', 'Yes', 15, 3, 2, 80, 0, 7, 3, 3, 0, 0, 0, 0),\n",
              " (33, 'No', 'Travel_Frequently', 1392, 'Research & Development', 3, 4, 'Life Sciences', 1, 5, 4, 'Female', 56, 3, 1, 'Research Scientist', 3, 'Married', 2909, 23159, 1, 'Y', 'Yes', 11, 3, 3, 80, 0, 8, 3, 3, 8, 7, 3, 0),\n",
              " (27, 'No', 'Travel_Rarely', 591, 'Research & Development', 2, 1, 'Medical', 1, 7, 1, 'Male', 40, 3, 1, 'Laboratory Technician', 2, 'Married', 3468, 16632, 9, 'Y', 'No', 12, 3, 4, 80, 1, 6, 3, 3, 2, 2, 2, 2)]"
            ],
            "text/html": [
              "<table>\n",
              "    <thead>\n",
              "        <tr>\n",
              "            <th>Age</th>\n",
              "            <th>Attrition</th>\n",
              "            <th>BusinessTravel</th>\n",
              "            <th>DailyRate</th>\n",
              "            <th>Department</th>\n",
              "            <th>DistanceFromHome</th>\n",
              "            <th>Education</th>\n",
              "            <th>EducationField</th>\n",
              "            <th>EmployeeCount</th>\n",
              "            <th>EmployeeNumber</th>\n",
              "            <th>EnvironmentSatisfaction</th>\n",
              "            <th>Gender</th>\n",
              "            <th>HourlyRate</th>\n",
              "            <th>JobInvolvement</th>\n",
              "            <th>JobLevel</th>\n",
              "            <th>JobRole</th>\n",
              "            <th>JobSatisfaction</th>\n",
              "            <th>MaritalStatus</th>\n",
              "            <th>MonthlyIncome</th>\n",
              "            <th>MonthlyRate</th>\n",
              "            <th>NumCompaniesWorked</th>\n",
              "            <th>Over18</th>\n",
              "            <th>OverTime</th>\n",
              "            <th>PercentSalaryHike</th>\n",
              "            <th>PerformanceRating</th>\n",
              "            <th>RelationshipSatisfaction</th>\n",
              "            <th>StandardHours</th>\n",
              "            <th>StockOptionLevel</th>\n",
              "            <th>TotalWorkingYears</th>\n",
              "            <th>TrainingTimesLastYear</th>\n",
              "            <th>WorkLifeBalance</th>\n",
              "            <th>YearsAtCompany</th>\n",
              "            <th>YearsInCurrentRole</th>\n",
              "            <th>YearsSinceLastPromotion</th>\n",
              "            <th>YearsWithCurrManager</th>\n",
              "        </tr>\n",
              "    </thead>\n",
              "    <tbody>\n",
              "        <tr>\n",
              "            <td>41</td>\n",
              "            <td>Yes</td>\n",
              "            <td>Travel_Rarely</td>\n",
              "            <td>1102</td>\n",
              "            <td>Sales</td>\n",
              "            <td>1</td>\n",
              "            <td>2</td>\n",
              "            <td>Life Sciences</td>\n",
              "            <td>1</td>\n",
              "            <td>1</td>\n",
              "            <td>2</td>\n",
              "            <td>Female</td>\n",
              "            <td>94</td>\n",
              "            <td>3</td>\n",
              "            <td>2</td>\n",
              "            <td>Sales Executive</td>\n",
              "            <td>4</td>\n",
              "            <td>Single</td>\n",
              "            <td>5993</td>\n",
              "            <td>19479</td>\n",
              "            <td>8</td>\n",
              "            <td>Y</td>\n",
              "            <td>Yes</td>\n",
              "            <td>11</td>\n",
              "            <td>3</td>\n",
              "            <td>1</td>\n",
              "            <td>80</td>\n",
              "            <td>0</td>\n",
              "            <td>8</td>\n",
              "            <td>0</td>\n",
              "            <td>1</td>\n",
              "            <td>6</td>\n",
              "            <td>4</td>\n",
              "            <td>0</td>\n",
              "            <td>5</td>\n",
              "        </tr>\n",
              "        <tr>\n",
              "            <td>49</td>\n",
              "            <td>No</td>\n",
              "            <td>Travel_Frequently</td>\n",
              "            <td>279</td>\n",
              "            <td>Research &amp; Development</td>\n",
              "            <td>8</td>\n",
              "            <td>1</td>\n",
              "            <td>Life Sciences</td>\n",
              "            <td>1</td>\n",
              "            <td>2</td>\n",
              "            <td>3</td>\n",
              "            <td>Male</td>\n",
              "            <td>61</td>\n",
              "            <td>2</td>\n",
              "            <td>2</td>\n",
              "            <td>Research Scientist</td>\n",
              "            <td>2</td>\n",
              "            <td>Married</td>\n",
              "            <td>5130</td>\n",
              "            <td>24907</td>\n",
              "            <td>1</td>\n",
              "            <td>Y</td>\n",
              "            <td>No</td>\n",
              "            <td>23</td>\n",
              "            <td>4</td>\n",
              "            <td>4</td>\n",
              "            <td>80</td>\n",
              "            <td>1</td>\n",
              "            <td>10</td>\n",
              "            <td>3</td>\n",
              "            <td>3</td>\n",
              "            <td>10</td>\n",
              "            <td>7</td>\n",
              "            <td>1</td>\n",
              "            <td>7</td>\n",
              "        </tr>\n",
              "        <tr>\n",
              "            <td>37</td>\n",
              "            <td>Yes</td>\n",
              "            <td>Travel_Rarely</td>\n",
              "            <td>1373</td>\n",
              "            <td>Research &amp; Development</td>\n",
              "            <td>2</td>\n",
              "            <td>2</td>\n",
              "            <td>Other</td>\n",
              "            <td>1</td>\n",
              "            <td>4</td>\n",
              "            <td>4</td>\n",
              "            <td>Male</td>\n",
              "            <td>92</td>\n",
              "            <td>2</td>\n",
              "            <td>1</td>\n",
              "            <td>Laboratory Technician</td>\n",
              "            <td>3</td>\n",
              "            <td>Single</td>\n",
              "            <td>2090</td>\n",
              "            <td>2396</td>\n",
              "            <td>6</td>\n",
              "            <td>Y</td>\n",
              "            <td>Yes</td>\n",
              "            <td>15</td>\n",
              "            <td>3</td>\n",
              "            <td>2</td>\n",
              "            <td>80</td>\n",
              "            <td>0</td>\n",
              "            <td>7</td>\n",
              "            <td>3</td>\n",
              "            <td>3</td>\n",
              "            <td>0</td>\n",
              "            <td>0</td>\n",
              "            <td>0</td>\n",
              "            <td>0</td>\n",
              "        </tr>\n",
              "        <tr>\n",
              "            <td>33</td>\n",
              "            <td>No</td>\n",
              "            <td>Travel_Frequently</td>\n",
              "            <td>1392</td>\n",
              "            <td>Research &amp; Development</td>\n",
              "            <td>3</td>\n",
              "            <td>4</td>\n",
              "            <td>Life Sciences</td>\n",
              "            <td>1</td>\n",
              "            <td>5</td>\n",
              "            <td>4</td>\n",
              "            <td>Female</td>\n",
              "            <td>56</td>\n",
              "            <td>3</td>\n",
              "            <td>1</td>\n",
              "            <td>Research Scientist</td>\n",
              "            <td>3</td>\n",
              "            <td>Married</td>\n",
              "            <td>2909</td>\n",
              "            <td>23159</td>\n",
              "            <td>1</td>\n",
              "            <td>Y</td>\n",
              "            <td>Yes</td>\n",
              "            <td>11</td>\n",
              "            <td>3</td>\n",
              "            <td>3</td>\n",
              "            <td>80</td>\n",
              "            <td>0</td>\n",
              "            <td>8</td>\n",
              "            <td>3</td>\n",
              "            <td>3</td>\n",
              "            <td>8</td>\n",
              "            <td>7</td>\n",
              "            <td>3</td>\n",
              "            <td>0</td>\n",
              "        </tr>\n",
              "        <tr>\n",
              "            <td>27</td>\n",
              "            <td>No</td>\n",
              "            <td>Travel_Rarely</td>\n",
              "            <td>591</td>\n",
              "            <td>Research &amp; Development</td>\n",
              "            <td>2</td>\n",
              "            <td>1</td>\n",
              "            <td>Medical</td>\n",
              "            <td>1</td>\n",
              "            <td>7</td>\n",
              "            <td>1</td>\n",
              "            <td>Male</td>\n",
              "            <td>40</td>\n",
              "            <td>3</td>\n",
              "            <td>1</td>\n",
              "            <td>Laboratory Technician</td>\n",
              "            <td>2</td>\n",
              "            <td>Married</td>\n",
              "            <td>3468</td>\n",
              "            <td>16632</td>\n",
              "            <td>9</td>\n",
              "            <td>Y</td>\n",
              "            <td>No</td>\n",
              "            <td>12</td>\n",
              "            <td>3</td>\n",
              "            <td>4</td>\n",
              "            <td>80</td>\n",
              "            <td>1</td>\n",
              "            <td>6</td>\n",
              "            <td>3</td>\n",
              "            <td>3</td>\n",
              "            <td>2</td>\n",
              "            <td>2</td>\n",
              "            <td>2</td>\n",
              "            <td>2</td>\n",
              "        </tr>\n",
              "    </tbody>\n",
              "</table>"
            ]
          },
          "metadata": {},
          "execution_count": 25
        }
      ]
    },
    {
      "cell_type": "markdown",
      "source": [
        "## Calculating Attrition Rate"
      ],
      "metadata": {
        "id": "a27rWTbhzx0a"
      }
    },
    {
      "cell_type": "code",
      "source": [
        "%%sql\n",
        "\n",
        "SELECT\n",
        "CASE WHEN Attrition = \"Yes\" THEN \"True\"\n",
        "ELSE \"False\"\n",
        "END AS Attrition,\n",
        "COUNT(*) AS Count\n",
        "FROM Attrition\n",
        "GROUP BY\n",
        "  CASE WHEN Attrition = \"Yes\" THEN \"True\" ELSE \"False\" END;"
      ],
      "metadata": {
        "colab": {
          "base_uri": "https://localhost:8080/",
          "height": 119
        },
        "id": "VgGYg1SFcG6-",
        "outputId": "0747f2c2-150b-40f9-8521-39982f996952"
      },
      "execution_count": 26,
      "outputs": [
        {
          "output_type": "stream",
          "name": "stdout",
          "text": [
            " * sqlite:///HR_Employee_Attrition.db\n",
            "Done.\n"
          ]
        },
        {
          "output_type": "execute_result",
          "data": {
            "text/plain": [
              "[('False', 1233), ('True', 237)]"
            ],
            "text/html": [
              "<table>\n",
              "    <thead>\n",
              "        <tr>\n",
              "            <th>Attrition</th>\n",
              "            <th>Count</th>\n",
              "        </tr>\n",
              "    </thead>\n",
              "    <tbody>\n",
              "        <tr>\n",
              "            <td>False</td>\n",
              "            <td>1233</td>\n",
              "        </tr>\n",
              "        <tr>\n",
              "            <td>True</td>\n",
              "            <td>237</td>\n",
              "        </tr>\n",
              "    </tbody>\n",
              "</table>"
            ]
          },
          "metadata": {},
          "execution_count": 26
        }
      ]
    },
    {
      "cell_type": "code",
      "source": [
        "%%sql\n",
        "\n",
        "SELECT\n",
        "CASE WHEN Attrition = \"Yes\" THEN \"True\"\n",
        "ELSE \"False\"\n",
        "END AS Attrition,\n",
        "ROUND(COUNT(*) * 100.0 / (SELECT COUNT(*) FROM Attrition), 1) ||'%' AS Attrition_Rate\n",
        "FROM Attrition\n",
        "GROUP BY Attrition\n",
        "ORDER BY Attrition_Rate ASC;"
      ],
      "metadata": {
        "colab": {
          "base_uri": "https://localhost:8080/",
          "height": 119
        },
        "id": "biAb15QSiWlM",
        "outputId": "366b3a9a-1124-4e83-ef25-4ec5f0cecdb1"
      },
      "execution_count": 27,
      "outputs": [
        {
          "output_type": "stream",
          "name": "stdout",
          "text": [
            " * sqlite:///HR_Employee_Attrition.db\n",
            "Done.\n"
          ]
        },
        {
          "output_type": "execute_result",
          "data": {
            "text/plain": [
              "[('True', '16.1%'), ('False', '83.9%')]"
            ],
            "text/html": [
              "<table>\n",
              "    <thead>\n",
              "        <tr>\n",
              "            <th>Attrition</th>\n",
              "            <th>Attrition_Rate</th>\n",
              "        </tr>\n",
              "    </thead>\n",
              "    <tbody>\n",
              "        <tr>\n",
              "            <td>True</td>\n",
              "            <td>16.1%</td>\n",
              "        </tr>\n",
              "        <tr>\n",
              "            <td>False</td>\n",
              "            <td>83.9%</td>\n",
              "        </tr>\n",
              "    </tbody>\n",
              "</table>"
            ]
          },
          "metadata": {},
          "execution_count": 27
        }
      ]
    },
    {
      "cell_type": "markdown",
      "source": [
        "## Calculating Attrition by Gender"
      ],
      "metadata": {
        "id": "6mvZOgdM0A5c"
      }
    },
    {
      "cell_type": "code",
      "source": [
        "%%sql\n",
        "SELECT\n",
        "  CASE WHEN Attrition = 'Yes' THEN 'True' ELSE 'False' END AS Attrition,\n",
        "  Gender,\n",
        "  COUNT(*) AS Count_gender,\n",
        "  ROUND(COUNT(*) * 100.0 / (\n",
        "    SELECT COUNT(*) FROM Attrition AS a2\n",
        "    WHERE a2.Gender = a1.Gender\n",
        "  ), 1) AS Attrition_by_gender\n",
        "\n",
        "\n",
        "FROM Attrition AS a1\n",
        "GROUP BY Attrition, Gender\n",
        "ORDER BY Attrition_by_gender ASC;\n"
      ],
      "metadata": {
        "colab": {
          "base_uri": "https://localhost:8080/",
          "height": 162
        },
        "id": "F979pN9D8ZIP",
        "outputId": "69bc8150-e6b4-43d8-fe11-56c9d7413861"
      },
      "execution_count": 28,
      "outputs": [
        {
          "output_type": "stream",
          "name": "stdout",
          "text": [
            " * sqlite:///HR_Employee_Attrition.db\n",
            "Done.\n"
          ]
        },
        {
          "output_type": "execute_result",
          "data": {
            "text/plain": [
              "[('True', 'Female', 87, 14.8),\n",
              " ('True', 'Male', 150, 17.0),\n",
              " ('False', 'Male', 732, 83.0),\n",
              " ('False', 'Female', 501, 85.2)]"
            ],
            "text/html": [
              "<table>\n",
              "    <thead>\n",
              "        <tr>\n",
              "            <th>Attrition</th>\n",
              "            <th>Gender</th>\n",
              "            <th>Count_gender</th>\n",
              "            <th>Attrition_by_gender</th>\n",
              "        </tr>\n",
              "    </thead>\n",
              "    <tbody>\n",
              "        <tr>\n",
              "            <td>True</td>\n",
              "            <td>Female</td>\n",
              "            <td>87</td>\n",
              "            <td>14.8</td>\n",
              "        </tr>\n",
              "        <tr>\n",
              "            <td>True</td>\n",
              "            <td>Male</td>\n",
              "            <td>150</td>\n",
              "            <td>17.0</td>\n",
              "        </tr>\n",
              "        <tr>\n",
              "            <td>False</td>\n",
              "            <td>Male</td>\n",
              "            <td>732</td>\n",
              "            <td>83.0</td>\n",
              "        </tr>\n",
              "        <tr>\n",
              "            <td>False</td>\n",
              "            <td>Female</td>\n",
              "            <td>501</td>\n",
              "            <td>85.2</td>\n",
              "        </tr>\n",
              "    </tbody>\n",
              "</table>"
            ]
          },
          "metadata": {},
          "execution_count": 28
        }
      ]
    },
    {
      "cell_type": "markdown",
      "source": [
        "## Calculating Attrition by Department"
      ],
      "metadata": {
        "id": "ET2FiiJU0F3O"
      }
    },
    {
      "cell_type": "code",
      "source": [
        "%%sql\n",
        "SELECT DISTINCT department, Attrition,\n",
        "COUNT(*) AS Department_Attrition\n",
        "FROM Attrition\n",
        "GROUP BY Department, Attrition;"
      ],
      "metadata": {
        "colab": {
          "base_uri": "https://localhost:8080/",
          "height": 204
        },
        "id": "ir_6kSDSBDD8",
        "outputId": "ea7e3a35-efc1-4756-d11f-61dddd9618e9"
      },
      "execution_count": 29,
      "outputs": [
        {
          "output_type": "stream",
          "name": "stdout",
          "text": [
            " * sqlite:///HR_Employee_Attrition.db\n",
            "Done.\n"
          ]
        },
        {
          "output_type": "execute_result",
          "data": {
            "text/plain": [
              "[('Human Resources', 'No', 51),\n",
              " ('Human Resources', 'Yes', 12),\n",
              " ('Research & Development', 'No', 828),\n",
              " ('Research & Development', 'Yes', 133),\n",
              " ('Sales', 'No', 354),\n",
              " ('Sales', 'Yes', 92)]"
            ],
            "text/html": [
              "<table>\n",
              "    <thead>\n",
              "        <tr>\n",
              "            <th>Department</th>\n",
              "            <th>Attrition</th>\n",
              "            <th>Department_Attrition</th>\n",
              "        </tr>\n",
              "    </thead>\n",
              "    <tbody>\n",
              "        <tr>\n",
              "            <td>Human Resources</td>\n",
              "            <td>No</td>\n",
              "            <td>51</td>\n",
              "        </tr>\n",
              "        <tr>\n",
              "            <td>Human Resources</td>\n",
              "            <td>Yes</td>\n",
              "            <td>12</td>\n",
              "        </tr>\n",
              "        <tr>\n",
              "            <td>Research &amp; Development</td>\n",
              "            <td>No</td>\n",
              "            <td>828</td>\n",
              "        </tr>\n",
              "        <tr>\n",
              "            <td>Research &amp; Development</td>\n",
              "            <td>Yes</td>\n",
              "            <td>133</td>\n",
              "        </tr>\n",
              "        <tr>\n",
              "            <td>Sales</td>\n",
              "            <td>No</td>\n",
              "            <td>354</td>\n",
              "        </tr>\n",
              "        <tr>\n",
              "            <td>Sales</td>\n",
              "            <td>Yes</td>\n",
              "            <td>92</td>\n",
              "        </tr>\n",
              "    </tbody>\n",
              "</table>"
            ]
          },
          "metadata": {},
          "execution_count": 29
        }
      ]
    },
    {
      "cell_type": "markdown",
      "source": [
        "## Calculate Attrition by Age"
      ],
      "metadata": {
        "id": "kLEpggqX0Kmb"
      }
    },
    {
      "cell_type": "code",
      "source": [
        "%%sql\n",
        "\n",
        "SELECT\n",
        "CASE WHEN Attrition = 'Yes' THEN 'True'\n",
        "ELSE 'False'\n",
        "END AS Attrition,\n",
        "CASE\n",
        "WHEN Age < 30 THEN 'Under 30'\n",
        "WHEN Age BETWEEN 30 AND 40 THEN '30-40'\n",
        "WHEN Age BETWEEN 40 AND 50 THEN '40-50'\n",
        "WHEN Age >50 THEN 'Over 50'\n",
        "END AS Age_Group,\n",
        "COUNT(Age) as num,\n",
        "ROUND (\n",
        "  COUNT(*) * 100.0 / (\n",
        "    SELECT COUNT(*) FROM Attrition AS a1\n",
        "    WHERE\n",
        "    CASE\n",
        "        WHEN a1.Age < 30 THEN 'Under 30'\n",
        "        WHEN a1.Age BETWEEN 30 AND 40 THEN '30-40'\n",
        "        WHEN a1.Age BETWEEN 40 AND 50 THEN '40-50'\n",
        "        WHEN a1.Age >50 THEN 'Over 50'\n",
        "        END =\n",
        "        CASE WHEN a2.Age < 30 THEN 'Under 30'\n",
        "        WHEN a2.Age BETWEEN 30 AND 40 THEN '30-40'\n",
        "        WHEN a2.Age BETWEEN 40 AND 50 THEN '40-50'\n",
        "        WHEN a2.Age >50 THEN 'Over 50'\n",
        "    END), 1) || '%' AS Percentage_by_Age\n",
        "  FROM Attrition AS a2\n",
        "  GROUP by Attrition, Age_Group\n",
        "  ORDER BY Age_Group, Attrition;\n",
        "\n"
      ],
      "metadata": {
        "colab": {
          "base_uri": "https://localhost:8080/",
          "height": 247
        },
        "id": "oJkwDYB9C_EN",
        "outputId": "e01951df-55f4-48df-e437-f0c27975378d"
      },
      "execution_count": 30,
      "outputs": [
        {
          "output_type": "stream",
          "name": "stdout",
          "text": [
            " * sqlite:///HR_Employee_Attrition.db\n",
            "Done.\n"
          ]
        },
        {
          "output_type": "execute_result",
          "data": {
            "text/plain": [
              "[('False', '30-40', 585, '86.2%'),\n",
              " ('True', '30-40', 94, '13.8%'),\n",
              " ('False', '40-50', 288, '89.4%'),\n",
              " ('True', '40-50', 34, '10.6%'),\n",
              " ('False', 'Over 50', 125, '87.4%'),\n",
              " ('True', 'Over 50', 18, '12.6%'),\n",
              " ('False', 'Under 30', 235, '72.1%'),\n",
              " ('True', 'Under 30', 91, '27.9%')]"
            ],
            "text/html": [
              "<table>\n",
              "    <thead>\n",
              "        <tr>\n",
              "            <th>Attrition</th>\n",
              "            <th>Age_Group</th>\n",
              "            <th>num</th>\n",
              "            <th>Percentage_by_Age</th>\n",
              "        </tr>\n",
              "    </thead>\n",
              "    <tbody>\n",
              "        <tr>\n",
              "            <td>False</td>\n",
              "            <td>30-40</td>\n",
              "            <td>585</td>\n",
              "            <td>86.2%</td>\n",
              "        </tr>\n",
              "        <tr>\n",
              "            <td>True</td>\n",
              "            <td>30-40</td>\n",
              "            <td>94</td>\n",
              "            <td>13.8%</td>\n",
              "        </tr>\n",
              "        <tr>\n",
              "            <td>False</td>\n",
              "            <td>40-50</td>\n",
              "            <td>288</td>\n",
              "            <td>89.4%</td>\n",
              "        </tr>\n",
              "        <tr>\n",
              "            <td>True</td>\n",
              "            <td>40-50</td>\n",
              "            <td>34</td>\n",
              "            <td>10.6%</td>\n",
              "        </tr>\n",
              "        <tr>\n",
              "            <td>False</td>\n",
              "            <td>Over 50</td>\n",
              "            <td>125</td>\n",
              "            <td>87.4%</td>\n",
              "        </tr>\n",
              "        <tr>\n",
              "            <td>True</td>\n",
              "            <td>Over 50</td>\n",
              "            <td>18</td>\n",
              "            <td>12.6%</td>\n",
              "        </tr>\n",
              "        <tr>\n",
              "            <td>False</td>\n",
              "            <td>Under 30</td>\n",
              "            <td>235</td>\n",
              "            <td>72.1%</td>\n",
              "        </tr>\n",
              "        <tr>\n",
              "            <td>True</td>\n",
              "            <td>Under 30</td>\n",
              "            <td>91</td>\n",
              "            <td>27.9%</td>\n",
              "        </tr>\n",
              "    </tbody>\n",
              "</table>"
            ]
          },
          "metadata": {},
          "execution_count": 30
        }
      ]
    },
    {
      "cell_type": "markdown",
      "source": [
        "## Calculate Attrition by Monthly Income"
      ],
      "metadata": {
        "id": "JMYrqmks0QIF"
      }
    },
    {
      "cell_type": "code",
      "source": [
        "%%sql\n",
        "\n",
        "SELECT Department, JobLevel, AVG(MonthlyIncome) AS avg_income,\n",
        "AVG(CASE WHEN Attrition = 'Yes' THEN MonthlyIncome END) AS attrition_avg_income,\n",
        "ROUND((AVG(MonthlyIncome) - AVG(CASE WHEN Attrition = 'Yes' THEN MonthlyIncome END)), 2) AS difference\n",
        "FROM attrition\n",
        "GROUP BY Department, JobLevel\n",
        "HAVING difference IS NOT NULL\n",
        "ORDER BY Department"
      ],
      "metadata": {
        "colab": {
          "base_uri": "https://localhost:8080/",
          "height": 332
        },
        "id": "BmWU0sR8PDem",
        "outputId": "37657f2f-520d-43b6-c9a2-a9195d63e59e"
      },
      "execution_count": 31,
      "outputs": [
        {
          "output_type": "stream",
          "name": "stdout",
          "text": [
            " * sqlite:///HR_Employee_Attrition.db\n",
            "Done.\n"
          ]
        },
        {
          "output_type": "execute_result",
          "data": {
            "text/plain": [
              "[('Human Resources', 1, 2733.212121212121, 2415.7, 317.51),\n",
              " ('Human Resources', 3, 9623.0, 10216.0, -593.0),\n",
              " ('Research & Development', 1, 2840.064516129032, 2687.3762376237623, 152.69),\n",
              " ('Research & Development', 2, 5291.238434163701, 5372.0, -80.76),\n",
              " ('Research & Development', 3, 10170.488372093023, 9503.846153846154, 666.64),\n",
              " ('Research & Development', 4, 15634.676470588236, 12169.0, 3465.68),\n",
              " ('Research & Development', 5, 19218.51020408163, 19550.0, -331.49),\n",
              " ('Sales', 1, 2506.7236842105262, 2373.4375, 133.29),\n",
              " ('Sales', 2, 5746.054166666667, 5917.0, -170.95),\n",
              " ('Sales', 3, 9282.289156626506, 9202.764705882353, 79.52),\n",
              " ('Sales', 4, 15166.264705882353, 13395.75, 1770.51),\n",
              " ('Sales', 5, 19088.0, 19334.5, -246.5)]"
            ],
            "text/html": [
              "<table>\n",
              "    <thead>\n",
              "        <tr>\n",
              "            <th>Department</th>\n",
              "            <th>JobLevel</th>\n",
              "            <th>avg_income</th>\n",
              "            <th>attrition_avg_income</th>\n",
              "            <th>difference</th>\n",
              "        </tr>\n",
              "    </thead>\n",
              "    <tbody>\n",
              "        <tr>\n",
              "            <td>Human Resources</td>\n",
              "            <td>1</td>\n",
              "            <td>2733.212121212121</td>\n",
              "            <td>2415.7</td>\n",
              "            <td>317.51</td>\n",
              "        </tr>\n",
              "        <tr>\n",
              "            <td>Human Resources</td>\n",
              "            <td>3</td>\n",
              "            <td>9623.0</td>\n",
              "            <td>10216.0</td>\n",
              "            <td>-593.0</td>\n",
              "        </tr>\n",
              "        <tr>\n",
              "            <td>Research &amp; Development</td>\n",
              "            <td>1</td>\n",
              "            <td>2840.064516129032</td>\n",
              "            <td>2687.3762376237623</td>\n",
              "            <td>152.69</td>\n",
              "        </tr>\n",
              "        <tr>\n",
              "            <td>Research &amp; Development</td>\n",
              "            <td>2</td>\n",
              "            <td>5291.238434163701</td>\n",
              "            <td>5372.0</td>\n",
              "            <td>-80.76</td>\n",
              "        </tr>\n",
              "        <tr>\n",
              "            <td>Research &amp; Development</td>\n",
              "            <td>3</td>\n",
              "            <td>10170.488372093023</td>\n",
              "            <td>9503.846153846154</td>\n",
              "            <td>666.64</td>\n",
              "        </tr>\n",
              "        <tr>\n",
              "            <td>Research &amp; Development</td>\n",
              "            <td>4</td>\n",
              "            <td>15634.676470588236</td>\n",
              "            <td>12169.0</td>\n",
              "            <td>3465.68</td>\n",
              "        </tr>\n",
              "        <tr>\n",
              "            <td>Research &amp; Development</td>\n",
              "            <td>5</td>\n",
              "            <td>19218.51020408163</td>\n",
              "            <td>19550.0</td>\n",
              "            <td>-331.49</td>\n",
              "        </tr>\n",
              "        <tr>\n",
              "            <td>Sales</td>\n",
              "            <td>1</td>\n",
              "            <td>2506.7236842105262</td>\n",
              "            <td>2373.4375</td>\n",
              "            <td>133.29</td>\n",
              "        </tr>\n",
              "        <tr>\n",
              "            <td>Sales</td>\n",
              "            <td>2</td>\n",
              "            <td>5746.054166666667</td>\n",
              "            <td>5917.0</td>\n",
              "            <td>-170.95</td>\n",
              "        </tr>\n",
              "        <tr>\n",
              "            <td>Sales</td>\n",
              "            <td>3</td>\n",
              "            <td>9282.289156626506</td>\n",
              "            <td>9202.764705882353</td>\n",
              "            <td>79.52</td>\n",
              "        </tr>\n",
              "        <tr>\n",
              "            <td>Sales</td>\n",
              "            <td>4</td>\n",
              "            <td>15166.264705882353</td>\n",
              "            <td>13395.75</td>\n",
              "            <td>1770.51</td>\n",
              "        </tr>\n",
              "        <tr>\n",
              "            <td>Sales</td>\n",
              "            <td>5</td>\n",
              "            <td>19088.0</td>\n",
              "            <td>19334.5</td>\n",
              "            <td>-246.5</td>\n",
              "        </tr>\n",
              "    </tbody>\n",
              "</table>"
            ]
          },
          "metadata": {},
          "execution_count": 31
        }
      ]
    },
    {
      "cell_type": "markdown",
      "source": [
        "## Calculate Attrition by years at company"
      ],
      "metadata": {
        "id": "X2zAClHd0Wei"
      }
    },
    {
      "cell_type": "code",
      "source": [
        "%%sql\n",
        "\n",
        "SELECT CASE\n",
        "WHEN YearsAtCompany < 2 THEN 'New Hires'\n",
        "WHEN YearsAtCompany BETWEEN 2 AND 5 THEN '2-5'\n",
        "WHEN YearsAtCompany BETWEEN 6 AND 10 THEN '6-10'\n",
        "WHEN YearsAtCompany BETWEEN 11 AND 20 THEN '11-20'\n",
        "WHEN YearsAtCompany > 20 THEN 'Over 20'\n",
        "END AS tenure_years,\n",
        "COUNT(YearsAtCompany) AS num,\n",
        "ROUND(COUNT(*) * 100.0 / (SELECT COUNT(*) FROM attrition), 1) || '%' AS percent\n",
        "FROM attrition\n",
        "GROUP BY tenure_years\n",
        "ORDER BY tenure_years"
      ],
      "metadata": {
        "colab": {
          "base_uri": "https://localhost:8080/",
          "height": 183
        },
        "id": "eBe01AWkxOBd",
        "outputId": "94b1d0c0-46e7-4acb-93ba-3fccdbca7fcb"
      },
      "execution_count": 32,
      "outputs": [
        {
          "output_type": "stream",
          "name": "stdout",
          "text": [
            " * sqlite:///HR_Employee_Attrition.db\n",
            "Done.\n"
          ]
        },
        {
          "output_type": "execute_result",
          "data": {
            "text/plain": [
              "[('11-20', 180, '12.2%'),\n",
              " ('2-5', 561, '38.2%'),\n",
              " ('6-10', 448, '30.5%'),\n",
              " ('New Hires', 215, '14.6%'),\n",
              " ('Over 20', 66, '4.5%')]"
            ],
            "text/html": [
              "<table>\n",
              "    <thead>\n",
              "        <tr>\n",
              "            <th>tenure_years</th>\n",
              "            <th>num</th>\n",
              "            <th>percent</th>\n",
              "        </tr>\n",
              "    </thead>\n",
              "    <tbody>\n",
              "        <tr>\n",
              "            <td>11-20</td>\n",
              "            <td>180</td>\n",
              "            <td>12.2%</td>\n",
              "        </tr>\n",
              "        <tr>\n",
              "            <td>2-5</td>\n",
              "            <td>561</td>\n",
              "            <td>38.2%</td>\n",
              "        </tr>\n",
              "        <tr>\n",
              "            <td>6-10</td>\n",
              "            <td>448</td>\n",
              "            <td>30.5%</td>\n",
              "        </tr>\n",
              "        <tr>\n",
              "            <td>New Hires</td>\n",
              "            <td>215</td>\n",
              "            <td>14.6%</td>\n",
              "        </tr>\n",
              "        <tr>\n",
              "            <td>Over 20</td>\n",
              "            <td>66</td>\n",
              "            <td>4.5%</td>\n",
              "        </tr>\n",
              "    </tbody>\n",
              "</table>"
            ]
          },
          "metadata": {},
          "execution_count": 32
        }
      ]
    },
    {
      "cell_type": "markdown",
      "source": [
        "## Why do people over 50 leave compared to 40 - 50"
      ],
      "metadata": {
        "id": "Dvr5yy_20seI"
      }
    },
    {
      "cell_type": "code",
      "source": [
        "%%sql\n",
        "\n",
        "SELECT\n",
        "  CASE\n",
        "    WHEN Age < 30 THEN 'Under 30'\n",
        "    WHEN Age BETWEEN 30 AND 39 THEN '30 - 39'\n",
        "    WHEN Age BETWEEN 40 AND 49 THEN '40 - 49'\n",
        "    WHEN Age >= 50 THEN 'Over 50'\n",
        "  END AS Age_Group,\n",
        "\n",
        "  COUNT(*) AS total_count,\n",
        "  SUM(CASE WHEN Attrition = 'Yes' THEN 1 ELSE 0 END) AS attrition_count,\n",
        "  ROUND(100.0 * SUM(CASE WHEN Attrition = 'Yes' THEN 1 ELSE 0 END) / COUNT(*), 1) || '%' AS attrition_rate\n",
        "\n",
        "FROM attrition\n",
        "GROUP BY Age_Group\n",
        "ORDER BY Age_Group;"
      ],
      "metadata": {
        "colab": {
          "base_uri": "https://localhost:8080/",
          "height": 162
        },
        "id": "olU16G1wxaC6",
        "outputId": "39988c65-53c2-489e-ffdf-493f7152a626"
      },
      "execution_count": 33,
      "outputs": [
        {
          "output_type": "stream",
          "name": "stdout",
          "text": [
            " * sqlite:///HR_Employee_Attrition.db\n",
            "Done.\n"
          ]
        },
        {
          "output_type": "execute_result",
          "data": {
            "text/plain": [
              "[('30 - 39', 622, 89, '14.3%'),\n",
              " ('40 - 49', 349, 34, '9.7%'),\n",
              " ('Over 50', 173, 23, '13.3%'),\n",
              " ('Under 30', 326, 91, '27.9%')]"
            ],
            "text/html": [
              "<table>\n",
              "    <thead>\n",
              "        <tr>\n",
              "            <th>Age_Group</th>\n",
              "            <th>total_count</th>\n",
              "            <th>attrition_count</th>\n",
              "            <th>attrition_rate</th>\n",
              "        </tr>\n",
              "    </thead>\n",
              "    <tbody>\n",
              "        <tr>\n",
              "            <td>30 - 39</td>\n",
              "            <td>622</td>\n",
              "            <td>89</td>\n",
              "            <td>14.3%</td>\n",
              "        </tr>\n",
              "        <tr>\n",
              "            <td>40 - 49</td>\n",
              "            <td>349</td>\n",
              "            <td>34</td>\n",
              "            <td>9.7%</td>\n",
              "        </tr>\n",
              "        <tr>\n",
              "            <td>Over 50</td>\n",
              "            <td>173</td>\n",
              "            <td>23</td>\n",
              "            <td>13.3%</td>\n",
              "        </tr>\n",
              "        <tr>\n",
              "            <td>Under 30</td>\n",
              "            <td>326</td>\n",
              "            <td>91</td>\n",
              "            <td>27.9%</td>\n",
              "        </tr>\n",
              "    </tbody>\n",
              "</table>"
            ]
          },
          "metadata": {},
          "execution_count": 33
        }
      ]
    },
    {
      "cell_type": "markdown",
      "source": [
        "## Why do people with higher salary still leave the company"
      ],
      "metadata": {
        "id": "kMaNwpoP01zf"
      }
    },
    {
      "cell_type": "code",
      "source": [
        "%%sql\n",
        "\n",
        "SELECT\n",
        "  CASE\n",
        "    WHEN MonthlyIncome < 3000 THEN 'Low (<3000)'\n",
        "    WHEN MonthlyIncome BETWEEN 3000 AND 6000 THEN 'Mid (3000-6000)'\n",
        "    WHEN MonthlyIncome BETWEEN 6000 AND 10000 THEN 'High (6000-10000)'\n",
        "    ELSE 'Very High (>10000)'\n",
        "  END AS Salary_Band,\n",
        "\n",
        "  COUNT(*) AS total_count,\n",
        "  SUM(CASE WHEN Attrition = 'Yes' THEN 1 ELSE 0 END) AS attrition_count,\n",
        "  ROUND(100.0 * SUM(CASE WHEN Attrition = 'Yes' THEN 1 ELSE 0 END) / COUNT(*), 1) || '%' AS attrition_rate\n",
        "\n",
        "FROM attrition\n",
        "GROUP BY Salary_Band\n",
        "ORDER BY attrition_rate DESC;"
      ],
      "metadata": {
        "colab": {
          "base_uri": "https://localhost:8080/",
          "height": 162
        },
        "id": "FKMOpf9Y0pJq",
        "outputId": "4c74fb7f-f008-42a7-bc01-186798d48a12"
      },
      "execution_count": 34,
      "outputs": [
        {
          "output_type": "stream",
          "name": "stdout",
          "text": [
            " * sqlite:///HR_Employee_Attrition.db\n",
            "Done.\n"
          ]
        },
        {
          "output_type": "execute_result",
          "data": {
            "text/plain": [
              "[('Very High (>10000)', 281, 25, '8.9%'),\n",
              " ('Low (<3000)', 395, 113, '28.6%'),\n",
              " ('Mid (3000-6000)', 519, 66, '12.7%'),\n",
              " ('High (6000-10000)', 275, 33, '12.0%')]"
            ],
            "text/html": [
              "<table>\n",
              "    <thead>\n",
              "        <tr>\n",
              "            <th>Salary_Band</th>\n",
              "            <th>total_count</th>\n",
              "            <th>attrition_count</th>\n",
              "            <th>attrition_rate</th>\n",
              "        </tr>\n",
              "    </thead>\n",
              "    <tbody>\n",
              "        <tr>\n",
              "            <td>Very High (&gt;10000)</td>\n",
              "            <td>281</td>\n",
              "            <td>25</td>\n",
              "            <td>8.9%</td>\n",
              "        </tr>\n",
              "        <tr>\n",
              "            <td>Low (&lt;3000)</td>\n",
              "            <td>395</td>\n",
              "            <td>113</td>\n",
              "            <td>28.6%</td>\n",
              "        </tr>\n",
              "        <tr>\n",
              "            <td>Mid (3000-6000)</td>\n",
              "            <td>519</td>\n",
              "            <td>66</td>\n",
              "            <td>12.7%</td>\n",
              "        </tr>\n",
              "        <tr>\n",
              "            <td>High (6000-10000)</td>\n",
              "            <td>275</td>\n",
              "            <td>33</td>\n",
              "            <td>12.0%</td>\n",
              "        </tr>\n",
              "    </tbody>\n",
              "</table>"
            ]
          },
          "metadata": {},
          "execution_count": 34
        }
      ]
    },
    {
      "cell_type": "markdown",
      "source": [
        "## What factors drive attrition among employees who work at company less than 5 years?"
      ],
      "metadata": {
        "id": "KhSiP0mj1NFc"
      }
    },
    {
      "cell_type": "code",
      "source": [
        "%%sql\n",
        "\n",
        "SELECT\n",
        "  JobSatisfaction,\n",
        "  EnvironmentSatisfaction,\n",
        "  WorkLifeBalance,\n",
        "  COUNT(*) AS total_count,\n",
        "  SUM(CASE WHEN Attrition = 'Yes' THEN 1 ELSE 0 END) AS attrition_count,\n",
        "  ROUND(100.0 * SUM(CASE WHEN Attrition = 'Yes' THEN 1 ELSE 0 END) / COUNT(*), 1) || '%' AS attrition_rate\n",
        "\n",
        "FROM attrition\n",
        "WHERE YearsAtCompany < 5\n",
        "GROUP BY JobSatisfaction\n",
        "ORDER BY attrition_rate DESC;"
      ],
      "metadata": {
        "colab": {
          "base_uri": "https://localhost:8080/",
          "height": 162
        },
        "id": "KB_YHRQa1JqM",
        "outputId": "85e37ab2-4b6e-420d-ba14-cf069c25f0ea"
      },
      "execution_count": 35,
      "outputs": [
        {
          "output_type": "stream",
          "name": "stdout",
          "text": [
            " * sqlite:///HR_Employee_Attrition.db\n",
            "Done.\n"
          ]
        },
        {
          "output_type": "execute_result",
          "data": {
            "text/plain": [
              "[(1, 3, 2, 120, 40, '33.3%'),\n",
              " (3, 4, 3, 178, 46, '25.8%'),\n",
              " (2, 1, 3, 110, 26, '23.6%'),\n",
              " (4, 2, 3, 172, 29, '16.9%')]"
            ],
            "text/html": [
              "<table>\n",
              "    <thead>\n",
              "        <tr>\n",
              "            <th>JobSatisfaction</th>\n",
              "            <th>EnvironmentSatisfaction</th>\n",
              "            <th>WorkLifeBalance</th>\n",
              "            <th>total_count</th>\n",
              "            <th>attrition_count</th>\n",
              "            <th>attrition_rate</th>\n",
              "        </tr>\n",
              "    </thead>\n",
              "    <tbody>\n",
              "        <tr>\n",
              "            <td>1</td>\n",
              "            <td>3</td>\n",
              "            <td>2</td>\n",
              "            <td>120</td>\n",
              "            <td>40</td>\n",
              "            <td>33.3%</td>\n",
              "        </tr>\n",
              "        <tr>\n",
              "            <td>3</td>\n",
              "            <td>4</td>\n",
              "            <td>3</td>\n",
              "            <td>178</td>\n",
              "            <td>46</td>\n",
              "            <td>25.8%</td>\n",
              "        </tr>\n",
              "        <tr>\n",
              "            <td>2</td>\n",
              "            <td>1</td>\n",
              "            <td>3</td>\n",
              "            <td>110</td>\n",
              "            <td>26</td>\n",
              "            <td>23.6%</td>\n",
              "        </tr>\n",
              "        <tr>\n",
              "            <td>4</td>\n",
              "            <td>2</td>\n",
              "            <td>3</td>\n",
              "            <td>172</td>\n",
              "            <td>29</td>\n",
              "            <td>16.9%</td>\n",
              "        </tr>\n",
              "    </tbody>\n",
              "</table>"
            ]
          },
          "metadata": {},
          "execution_count": 35
        }
      ]
    },
    {
      "cell_type": "code",
      "source": [],
      "metadata": {
        "id": "L0JNuY8Y1Kam"
      },
      "execution_count": 35,
      "outputs": []
    },
    {
      "cell_type": "markdown",
      "source": [
        "### References\n",
        "-Chatgpt, Claude.ai, Stackoverflow, W3Schools"
      ],
      "metadata": {
        "id": "HewtigxC1SIK"
      }
    }
  ]
}